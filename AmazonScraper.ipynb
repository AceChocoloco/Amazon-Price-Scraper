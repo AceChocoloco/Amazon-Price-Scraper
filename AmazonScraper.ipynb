{
 "cells": [
  {
   "cell_type": "code",
   "execution_count": 1,
   "id": "50e1f39c-0ca8-4544-a6ba-3a0986f49697",
   "metadata": {},
   "outputs": [
    {
     "name": "stdout",
     "output_type": "stream",
     "text": [
      "Requirement already satisfied: playwright in c:\\users\\thena\\anaconda3\\lib\\site-packages (1.49.1)\n",
      "Requirement already satisfied: greenlet==3.1.1 in c:\\users\\thena\\anaconda3\\lib\\site-packages (from playwright) (3.1.1)\n",
      "Requirement already satisfied: pyee==12.0.0 in c:\\users\\thena\\anaconda3\\lib\\site-packages (from playwright) (12.0.0)\n",
      "Requirement already satisfied: typing-extensions in c:\\users\\thena\\anaconda3\\lib\\site-packages (from pyee==12.0.0->playwright) (4.11.0)\n"
     ]
    }
   ],
   "source": [
    "# Initialization\n",
    "!pip install playwright\n",
    "!playwright install\n",
    "\n",
    "from playwright.async_api import async_playwright\n",
    "import re"
   ]
  },
  {
   "cell_type": "code",
   "execution_count": 34,
   "id": "298131d3-317f-41bf-bcc7-967ff1d00980",
   "metadata": {
    "scrolled": true
   },
   "outputs": [
    {
     "name": "stdout",
     "output_type": "stream",
     "text": [
      "The total price of the wishlist is: $1174.01\n"
     ]
    }
   ],
   "source": [
    "async def scrape(url):\n",
    "    async with async_playwright() as playwright:\n",
    "\n",
    "        # Initialization\n",
    "        browser = await playwright.chromium.launch()\n",
    "        page = await browser.new_page()\n",
    "\n",
    "        # Input the desired Amazon url \n",
    "        await page.goto(url)\n",
    "        \n",
    "        # find the dollar amount price, while removing whitespace using filter() \n",
    "        await page.wait_for_selector('.a-price-whole')\n",
    "        dollar = await page.inner_text('.a-price-whole')\n",
    "        dollar = ''.join(filter(str.isdigit, str(dollar))) # filter for digits only\n",
    "\n",
    "        # find the fraction price\n",
    "        await page.wait_for_selector('.a-price-fraction')\n",
    "        fraction = await page.inner_text('.a-price-fraction')\n",
    "\n",
    "        # combine the dollar amount and fraction together\n",
    "        price = dollar + '.' + fraction\n",
    "\n",
    "        # convert the string into a float\n",
    "        price = float(price)\n",
    "        \n",
    "        await browser.close()\n",
    "        return price\n",
    "        \n",
    "\n",
    "# Input the list of urls which act as a wishlist\n",
    "wishlist = ['https://www.amazon.ca/dp/B07GBZ4Q68',\n",
    "            'https://www.amazon.ca/dp/B0CL7RQRY9',\n",
    "            'https://www.amazon.ca/dp/B0BJLXTYMN']\n",
    "\n",
    "# Initialization of price\n",
    "price = 0\n",
    "tax_rate = 1.13 # enter your local tax rate HST/GST\n",
    "\n",
    "# loops through each element in wishlist, using the each url in the scraping algorithm\n",
    "for i in range(0,len(wishlist)):\n",
    "    price += await scrape(wishlist[i])\n",
    "\n",
    "# finalize by factoring in tax and rounding\n",
    "price = round(price * tax_rate, 2)\n",
    "    \n",
    "# Output price\n",
    "print('The total price of the wishlist is: $', price, sep='')"
   ]
  }
 ],
 "metadata": {
  "kernelspec": {
   "display_name": "Python 3 (ipykernel)",
   "language": "python",
   "name": "python3"
  },
  "language_info": {
   "codemirror_mode": {
    "name": "ipython",
    "version": 3
   },
   "file_extension": ".py",
   "mimetype": "text/x-python",
   "name": "python",
   "nbconvert_exporter": "python",
   "pygments_lexer": "ipython3",
   "version": "3.12.4"
  }
 },
 "nbformat": 4,
 "nbformat_minor": 5
}
